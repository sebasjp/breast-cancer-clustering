{
 "cells": [
  {
   "cell_type": "code",
   "execution_count": 1,
   "metadata": {},
   "outputs": [
    {
     "name": "stderr",
     "output_type": "stream",
     "text": [
      "/home/sebastian/anaconda3/lib/python3.9/site-packages/geopandas/_compat.py:123: UserWarning: The Shapely GEOS version (3.10.3-CAPI-1.16.1) is incompatible with the GEOS version PyGEOS was compiled with (3.10.4-CAPI-1.16.2). Conversions between both will be slow.\n",
      "  warnings.warn(\n"
     ]
    }
   ],
   "source": [
    "from pyrosm import OSM, get_data\n",
    "import osmnx as ox"
   ]
  },
  {
   "cell_type": "code",
   "execution_count": 2,
   "metadata": {},
   "outputs": [
    {
     "name": "stdout",
     "output_type": "stream",
     "text": [
      "Downloaded Protobuf data 'Bogota.osm.pbf' (8.98 MB) to:\n",
      "'/tmp/pyrosm/Bogota.osm.pbf'\n"
     ]
    }
   ],
   "source": [
    "osm = OSM(get_data(\"bogota\"))\n",
    "\n",
    "graph_type = {}\n",
    "\n",
    "n_drive,  e_drive = osm.get_network(nodes=True, network_type=\"driving\")\n",
    "n_cycling, e_cycling   = osm.get_network(nodes=True, network_type=\"cycling\")\n",
    "n_walk,   e_walk       = osm.get_network(nodes=True, network_type=\"walking\")\n",
    "n_service, e_service   = osm.get_network(nodes=True, network_type=\"driving+service\")"
   ]
  },
  {
   "cell_type": "code",
   "execution_count": null,
   "metadata": {},
   "outputs": [],
   "source": [
    "graph_type['drive'] = ox.add_edge_travel_times(\n",
    "    ox.add_edge_speeds(\n",
    "        osm.to_graph(\n",
    "            n_drive, \n",
    "            e_drive,  \n",
    "            graph_type=\"networkx\"\n",
    "        )\n",
    "    )\n",
    ")\n",
    "graph_type['walk']  = ox.add_edge_travel_times(ox.add_edge_speeds(osm.to_graph(n_walk, e_walk, graph_type=\"networkx\")))\n",
    "graph_type['cycle'] = ox.add_edge_travel_times(ox.add_edge_speeds(osm.to_graph(n_cycling, e_cycling, graph_type=\"networkx\")))\n",
    "graph_type['service'] = ox.add_edge_travel_times(ox.add_edge_speeds(osm.to_graph(n_service, e_service, graph_type=\"networkx\")))"
   ]
  },
  {
   "cell_type": "code",
   "execution_count": null,
   "metadata": {},
   "outputs": [],
   "source": []
  },
  {
   "cell_type": "code",
   "execution_count": null,
   "metadata": {},
   "outputs": [],
   "source": [
    "import geopandas as gpd\n",
    "import pandas as pd\n",
    "from sklearn.neighbors import BallTree\n",
    "import numpy as np\n",
    "import mapclassify as mc\n",
    "import matplotlib.pyplot as plt\n",
    "import time\n",
    "import networkx as nx\n",
    "import igraph as ig\n",
    "import folium\n",
    "import json"
   ]
  }
 ],
 "metadata": {
  "kernelspec": {
   "display_name": "osm",
   "language": "python",
   "name": "osm"
  },
  "language_info": {
   "codemirror_mode": {
    "name": "ipython",
    "version": 3
   },
   "file_extension": ".py",
   "mimetype": "text/x-python",
   "name": "python",
   "nbconvert_exporter": "python",
   "pygments_lexer": "ipython3",
   "version": "3.9.13"
  }
 },
 "nbformat": 4,
 "nbformat_minor": 4
}
