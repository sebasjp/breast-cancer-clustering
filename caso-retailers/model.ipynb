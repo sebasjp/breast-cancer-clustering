{
 "cells": [
  {
   "cell_type": "code",
   "execution_count": 81,
   "metadata": {},
   "outputs": [],
   "source": [
    "import pandas as pd\n",
    "import warnings\n",
    "from sklearn.linear_model import Ridge\n",
    "from sklearn.ensemble import RandomForestRegressor\n",
    "from sklearn.preprocessing import StandardScaler\n",
    "from skforecast.ForecasterAutoreg import ForecasterAutoreg\n",
    "# import matplotlib.pyplot as plt\n",
    "from skforecast.model_selection import backtesting_forecaster\n",
    "\n",
    "warnings.filterwarnings(\"ignore\")\n",
    "pd.options.display.max_columns=None"
   ]
  },
  {
   "cell_type": "code",
   "execution_count": 3,
   "metadata": {},
   "outputs": [
    {
     "name": "stdout",
     "output_type": "stream",
     "text": [
      "(256853, 13)\n"
     ]
    },
    {
     "data": {
      "text/html": [
       "<div>\n",
       "<style scoped>\n",
       "    .dataframe tbody tr th:only-of-type {\n",
       "        vertical-align: middle;\n",
       "    }\n",
       "\n",
       "    .dataframe tbody tr th {\n",
       "        vertical-align: top;\n",
       "    }\n",
       "\n",
       "    .dataframe thead th {\n",
       "        text-align: right;\n",
       "    }\n",
       "</style>\n",
       "<table border=\"1\" class=\"dataframe\">\n",
       "  <thead>\n",
       "    <tr style=\"text-align: right;\">\n",
       "      <th></th>\n",
       "      <th>year</th>\n",
       "      <th>month</th>\n",
       "      <th>segment</th>\n",
       "      <th>subsegment</th>\n",
       "      <th>brand</th>\n",
       "      <th>system</th>\n",
       "      <th>province</th>\n",
       "      <th>retailer</th>\n",
       "      <th>sales_units</th>\n",
       "      <th>th_sales_value_usd</th>\n",
       "      <th>th_sales_value_ars</th>\n",
       "      <th>month_num</th>\n",
       "      <th>date</th>\n",
       "    </tr>\n",
       "  </thead>\n",
       "  <tbody>\n",
       "    <tr>\n",
       "      <th>0</th>\n",
       "      <td>2017</td>\n",
       "      <td>January</td>\n",
       "      <td>A</td>\n",
       "      <td>01</td>\n",
       "      <td>BRAND-1</td>\n",
       "      <td>Old</td>\n",
       "      <td>BUENOS AIRES</td>\n",
       "      <td>F</td>\n",
       "      <td>912.645</td>\n",
       "      <td>483.412463</td>\n",
       "      <td>7702.772260</td>\n",
       "      <td>01</td>\n",
       "      <td>2017-01-01</td>\n",
       "    </tr>\n",
       "    <tr>\n",
       "      <th>1</th>\n",
       "      <td>2017</td>\n",
       "      <td>February</td>\n",
       "      <td>A</td>\n",
       "      <td>01</td>\n",
       "      <td>BRAND-1</td>\n",
       "      <td>Old</td>\n",
       "      <td>BUENOS AIRES</td>\n",
       "      <td>F</td>\n",
       "      <td>786.420</td>\n",
       "      <td>413.161071</td>\n",
       "      <td>6511.058545</td>\n",
       "      <td>02</td>\n",
       "      <td>2017-02-01</td>\n",
       "    </tr>\n",
       "  </tbody>\n",
       "</table>\n",
       "</div>"
      ],
      "text/plain": [
       "   year     month segment subsegment    brand system      province retailer  \\\n",
       "0  2017   January       A         01  BRAND-1    Old  BUENOS AIRES        F   \n",
       "1  2017  February       A         01  BRAND-1    Old  BUENOS AIRES        F   \n",
       "\n",
       "   sales_units  th_sales_value_usd  th_sales_value_ars month_num       date  \n",
       "0      912.645          483.412463         7702.772260        01 2017-01-01  \n",
       "1      786.420          413.161071         6511.058545        02 2017-02-01  "
      ]
     },
     "execution_count": 3,
     "metadata": {},
     "output_type": "execute_result"
    }
   ],
   "source": [
    "df = pd.read_csv(\"retailer_sample.csv\")\n",
    "df.columns = (\n",
    "    df.columns\n",
    "    .str.lower()\n",
    "    .str.replace(\".\", \"_\")\n",
    "    .str.replace(\" \", \"_\")\n",
    "    .str.replace(\"__\", \"_\")\n",
    ")\n",
    "\n",
    "months = {\n",
    "    \"January\": \"01\", \"February\": \"02\",\n",
    "    \"March\": \"03\", \"April\": \"04\",\n",
    "    \"May\": \"05\", \"June\": \"06\",\n",
    "    \"July\": \"07\", \"August\": \"08\",\n",
    "    \"September\": \"09\", \"October\": \"10\",\n",
    "    \"November\": \"11\", \"December\": \"12\",\n",
    "}\n",
    "df[\"month_num\"] = df[\"month\"].replace(months)\n",
    "df[\"year\"] = df[\"year\"].astype(str)\n",
    "\n",
    "df[\"date\"] = df[\"year\"] + \"-\" + df[\"month_num\"]\n",
    "df[\"date\"] = pd.to_datetime(df[\"date\"], format=\"%Y-%m\")\n",
    "\n",
    "print(df.shape)\n",
    "df.head(2)"
   ]
  },
  {
   "cell_type": "code",
   "execution_count": 50,
   "metadata": {},
   "outputs": [
    {
     "name": "stdout",
     "output_type": "stream",
     "text": [
      "(100, 2)\n"
     ]
    },
    {
     "data": {
      "text/html": [
       "<div>\n",
       "<style scoped>\n",
       "    .dataframe tbody tr th:only-of-type {\n",
       "        vertical-align: middle;\n",
       "    }\n",
       "\n",
       "    .dataframe tbody tr th {\n",
       "        vertical-align: top;\n",
       "    }\n",
       "\n",
       "    .dataframe thead th {\n",
       "        text-align: right;\n",
       "    }\n",
       "</style>\n",
       "<table border=\"1\" class=\"dataframe\">\n",
       "  <thead>\n",
       "    <tr style=\"text-align: right;\">\n",
       "      <th></th>\n",
       "      <th>retailer</th>\n",
       "      <th>tot_sales_value_usd</th>\n",
       "    </tr>\n",
       "    <tr>\n",
       "      <th>date</th>\n",
       "      <th></th>\n",
       "      <th></th>\n",
       "    </tr>\n",
       "  </thead>\n",
       "  <tbody>\n",
       "    <tr>\n",
       "      <th>2017-01-01</th>\n",
       "      <td>F</td>\n",
       "      <td>95288.165732</td>\n",
       "    </tr>\n",
       "    <tr>\n",
       "      <th>2017-02-01</th>\n",
       "      <td>F</td>\n",
       "      <td>58031.171353</td>\n",
       "    </tr>\n",
       "    <tr>\n",
       "      <th>2017-03-01</th>\n",
       "      <td>F</td>\n",
       "      <td>50660.782042</td>\n",
       "    </tr>\n",
       "    <tr>\n",
       "      <th>2017-04-01</th>\n",
       "      <td>F</td>\n",
       "      <td>44720.596696</td>\n",
       "    </tr>\n",
       "    <tr>\n",
       "      <th>2017-05-01</th>\n",
       "      <td>F</td>\n",
       "      <td>56717.546913</td>\n",
       "    </tr>\n",
       "  </tbody>\n",
       "</table>\n",
       "</div>"
      ],
      "text/plain": [
       "           retailer  tot_sales_value_usd\n",
       "date                                    \n",
       "2017-01-01        F         95288.165732\n",
       "2017-02-01        F         58031.171353\n",
       "2017-03-01        F         50660.782042\n",
       "2017-04-01        F         44720.596696\n",
       "2017-05-01        F         56717.546913"
      ]
     },
     "execution_count": 50,
     "metadata": {},
     "output_type": "execute_result"
    }
   ],
   "source": [
    "tot_retailer_date = (\n",
    "    df\n",
    "    .groupby([\"retailer\", \"date\"])\n",
    "    .agg(\n",
    "        tot_sales_value_usd = (\"th_sales_value_usd\", \"sum\")\n",
    "    )\n",
    "    .reset_index()\n",
    ")\n",
    "tot_retailer_date = tot_retailer_date.set_index(\"date\")\n",
    "# tot_retailer_date[\"retailer_F\"] = (tot_retailer_date[\"retailer\"]==\"F\").astype(int)\n",
    "# tot_retailer_date = tot_retailer_date.drop(columns=[\"retailer\"])\n",
    "\n",
    "print(tot_retailer_date.shape)\n",
    "tot_retailer_date.head()"
   ]
  },
  {
   "cell_type": "code",
   "execution_count": 51,
   "metadata": {},
   "outputs": [
    {
     "data": {
      "text/plain": [
       "Timestamp('2021-02-01 00:00:00')"
      ]
     },
     "execution_count": 51,
     "metadata": {},
     "output_type": "execute_result"
    }
   ],
   "source": [
    "tot_retailer_date.index.max()"
   ]
  },
  {
   "cell_type": "code",
   "execution_count": 90,
   "metadata": {},
   "outputs": [],
   "source": [
    "def train_eval_model(\n",
    "    time_series_data: pd.DataFrame,\n",
    "    model\n",
    "):\n",
    "\n",
    "    target = \"tot_sales_value_usd\"\n",
    "\n",
    "    for retailer in time_series_data[\"retailer\"].unique():\n",
    "\n",
    "        print(\"=\"*40)\n",
    "        print(f\"Retailer: {retailer}\")\n",
    "\n",
    "        data = time_series_data.query(\"retailer==@retailer\").loc['2017-01-01': '2021-02-01'].copy()\n",
    "        end_train = '2020-10-01'\n",
    "        start_test = '2020-11-01'\n",
    "        data_train = data.loc[:end_train, :].copy()\n",
    "        data_test  = data.loc[start_test:, :].copy()\n",
    "\n",
    "        print(f\"Train dates : {data_train.index.min()} --- {data_train.index.max()}  (n={len(data_train)})\")\n",
    "        print(f\"Test dates  : {data_test.index.min()} --- {data_test.index.max()}  (n={len(data_test)})\")\n",
    "\n",
    "        # fit model\n",
    "        data = data.reset_index(drop=True)\n",
    "        forecaster = ForecasterAutoreg(\n",
    "            regressor     = model,\n",
    "            lags          = 12,\n",
    "            transformer_y = StandardScaler(),\n",
    "        )\n",
    "        forecaster.fit(y=data_train[target])\n",
    "        \n",
    "        # Backtest final model\n",
    "        # ==============================================================================\n",
    "        metric, predictions = backtesting_forecaster(\n",
    "            forecaster         = forecaster,\n",
    "            y                  = data[target],\n",
    "            steps              = len(data_test),\n",
    "            metric             = \"mean_absolute_percentage_error\",\n",
    "            initial_train_size = len(data_train),\n",
    "            refit              = False,\n",
    "            n_jobs             = 'auto',\n",
    "            verbose            = False,\n",
    "            show_progress      = False\n",
    "        )\n",
    "        print(f\"Error: {metric}\")"
   ]
  },
  {
   "cell_type": "code",
   "execution_count": 91,
   "metadata": {},
   "outputs": [
    {
     "name": "stdout",
     "output_type": "stream",
     "text": [
      "========================================\n",
      "Retailer: F\n",
      "Train dates : 2017-01-01 00:00:00 --- 2020-10-01 00:00:00  (n=46)\n",
      "Test dates  : 2020-11-01 00:00:00 --- 2021-02-01 00:00:00  (n=4)\n",
      "Error: 0.2621614974321394\n",
      "========================================\n",
      "Retailer: O\n",
      "Train dates : 2017-01-01 00:00:00 --- 2020-10-01 00:00:00  (n=46)\n",
      "Test dates  : 2020-11-01 00:00:00 --- 2021-02-01 00:00:00  (n=4)\n",
      "Error: 0.21491564433176663\n"
     ]
    }
   ],
   "source": [
    "train_eval_model(\n",
    "    time_series_data=tot_retailer_date,\n",
    "    model=Ridge(random_state=123)\n",
    ")"
   ]
  },
  {
   "cell_type": "code",
   "execution_count": 92,
   "metadata": {},
   "outputs": [
    {
     "name": "stdout",
     "output_type": "stream",
     "text": [
      "========================================\n",
      "Retailer: F\n",
      "Train dates : 2017-01-01 00:00:00 --- 2020-10-01 00:00:00  (n=46)\n",
      "Test dates  : 2020-11-01 00:00:00 --- 2021-02-01 00:00:00  (n=4)\n",
      "Error: 0.21607445793986693\n",
      "========================================\n",
      "Retailer: O\n",
      "Train dates : 2017-01-01 00:00:00 --- 2020-10-01 00:00:00  (n=46)\n",
      "Test dates  : 2020-11-01 00:00:00 --- 2021-02-01 00:00:00  (n=4)\n",
      "Error: 0.11515398085009805\n"
     ]
    }
   ],
   "source": [
    "train_eval_model(\n",
    "    time_series_data=tot_retailer_date,\n",
    "    model=RandomForestRegressor(random_state=123)\n",
    ")"
   ]
  },
  {
   "attachments": {},
   "cell_type": "markdown",
   "metadata": {},
   "source": [
    "---"
   ]
  },
  {
   "cell_type": "code",
   "execution_count": 85,
   "metadata": {},
   "outputs": [],
   "source": [
    "# Predictors importance\n",
    "# ==============================================================================\n",
    "# forecaster.get_feature_importances().sort_values(\"importance\",ascending=False)"
   ]
  }
 ],
 "metadata": {
  "kernelspec": {
   "display_name": "base",
   "language": "python",
   "name": "python3"
  },
  "language_info": {
   "codemirror_mode": {
    "name": "ipython",
    "version": 3
   },
   "file_extension": ".py",
   "mimetype": "text/x-python",
   "name": "python",
   "nbconvert_exporter": "python",
   "pygments_lexer": "ipython3",
   "version": "3.9.13 (main, Aug 25 2022, 23:26:10) \n[GCC 11.2.0]"
  },
  "orig_nbformat": 4,
  "vscode": {
   "interpreter": {
    "hash": "216409cfbc3717ffa79c3727b80462d00f1b65783cba4371df1b0823cf223bb4"
   }
  }
 },
 "nbformat": 4,
 "nbformat_minor": 2
}
