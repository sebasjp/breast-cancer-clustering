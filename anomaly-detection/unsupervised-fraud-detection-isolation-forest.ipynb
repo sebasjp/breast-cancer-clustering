{
 "cells": [
  {
   "cell_type": "code",
   "execution_count": 1,
   "metadata": {
    "_cell_guid": "b1076dfc-b9ad-4769-8c92-a6c4dae69d19",
    "_uuid": "8f2839f25d086af736a60e9eeb907d3b93b6e0e5"
   },
   "outputs": [],
   "source": [
    "##All General Import Statements\n",
    "import pandas as pd\n",
    "import numpy as np\n",
    "import math\n",
    "import random\n",
    "%matplotlib inline\n",
    "import random\n",
    "from matplotlib import pyplot\n",
    "import os\n",
    "from datetime import datetime\n",
    "import warnings\n",
    "\n",
    "warnings.filterwarnings(\"ignore\")"
   ]
  },
  {
   "cell_type": "markdown",
   "metadata": {
    "_cell_guid": "79c7e3d0-c299-4dcb-8224-4455121ee9b0",
    "_uuid": "d629ff2d2480ee46fbb7e2d37f6b5fab8052498a",
    "collapsed": true
   },
   "source": [
    "# Anomaly Detection Algorithms: Isolation Forest vs the Rest"
   ]
  },
  {
   "cell_type": "markdown",
   "metadata": {
    "_cell_guid": "51597ace-db1c-4bb6-bfcc-ef80888318ae",
    "_uuid": "b5a26893df3e789db52f414c3bd9ad0a33192174"
   },
   "source": [
    "<p>This notebook shows a simplified implementation of the algorithm Isolation Forest and compares its Scikit-learn implementation with other popular anomaly detection algorithms. (KMeans, Local Outlier Factor, One-Class SVM)</p>\n",
    "\n",
    "<p>In a real world scenario, an unsupervised model is used primarily as a seed to create labelled data unless risk rules based on domain knowledge can be formulated for the problem. For example, if the problem is to identify anomalies in network traffic metrics such as time between logins and distance between origins can be used to formulate a risk rule. Anomalous logins obtained by applying this rule must then be audited to come up with their true labels. On the other hand take the case of identifying the probability of an employee  committing securities fraud. Here the behavioral data that the organization captures is very high dimensional and the relationship between the data points is complex. Hence without indepth domain knowledge, formulating risk rules is difficult.  This combined with issues such as confidentiality makes it very hard to validate these risk rules.</p>\n",
    "\n",
    "<p>This is where unsupervised learning shines. With very little domain knowledge, a simple unsupervised algorithm can be used to create a list of anomalies which can then be fed into an auditing process which then generates the true labels. Over time when enough data labels are created, the unsupervised problem can be reformulated as a supervised ML problem.</p>\n",
    "\n",
    "<p>Since this notebook aims to compare various unsupervised algorithms with each other their actual performance needs to be validated. For this I use a labelled dataset. But the algorithms do not see the labels while training. The labels are only used to compare the model predictions to the actual values and to create performance metrics.</p>"
   ]
  },
  {
   "cell_type": "markdown",
   "metadata": {
    "_cell_guid": "0a6767c4-59bf-424a-b528-5f23f7c77e05",
    "_uuid": "5eb32b0426d5808a32cae7715b93782bc56cbf3c"
   },
   "source": [
    "## Isolation Forests in Python"
   ]
  },
  {
   "cell_type": "markdown",
   "metadata": {
    "_cell_guid": "1885322a-6620-4694-89b1-861fc671c126",
    "_uuid": "56b9b449b538a6dd60f5f6d0b3688da65e832942"
   },
   "source": [
    "Let us now test the algorithm on a test dataset.\n",
    "Source: https://www.kaggle.com/code/rgaddati/unsupervised-fraud-detection-isolation-forest/data"
   ]
  },
  {
   "cell_type": "code",
   "execution_count": 2,
   "metadata": {
    "_cell_guid": "b4d647aa-fdd5-4e78-914d-715a8e2579c0",
    "_uuid": "5a295f6d45be752095da313c704a7b0b8734b6bc"
   },
   "outputs": [],
   "source": [
    "df=pd.read_csv(\"data/creditcard.csv\")\n",
    "y_true=df['Class']\n",
    "df_data=df.drop('Class',1)"
   ]
  },
  {
   "cell_type": "code",
   "execution_count": 3,
   "metadata": {
    "_cell_guid": "0da2ef65-865a-46d1-bba3-085eaa4ebe0d",
    "_uuid": "55a22d68269bdcd7d251291544952f5358a1d936"
   },
   "outputs": [],
   "source": [
    "from sklearn.ensemble import IsolationForest\n",
    "from sklearn.svm import OneClassSVM\n",
    "from sklearn.neighbors import LocalOutlierFactor ## Only available with scikit-learn 0.19 and later\n",
    "from sklearn.cluster import KMeans"
   ]
  },
  {
   "cell_type": "markdown",
   "metadata": {
    "_cell_guid": "1dd4c391-2656-4746-8f92-1d713b44492a",
    "_uuid": "5605915d2edb758623cbf4e8f907d8170ee38889"
   },
   "source": [
    "Next, let's create a train and test dataset."
   ]
  },
  {
   "cell_type": "code",
   "execution_count": 4,
   "metadata": {
    "_cell_guid": "ec02afde-f1f4-4ea8-98e9-5dcc35c9b510",
    "_uuid": "9f5aa9ec82465700c9b9f2ca1305e7408d88a121"
   },
   "outputs": [],
   "source": [
    "from sklearn.model_selection import train_test_split"
   ]
  },
  {
   "cell_type": "code",
   "execution_count": 5,
   "metadata": {
    "_cell_guid": "c51cbb06-aa24-4454-83ca-c42d3a5aa557",
    "_uuid": "0965b21b9059d99cfd4c2461d6ed3cc63de261c0"
   },
   "outputs": [],
   "source": [
    "X_train, X_test, y_train, y_test = train_test_split(df_data, y_true, test_size=0.3, random_state=42)"
   ]
  },
  {
   "cell_type": "markdown",
   "metadata": {
    "_cell_guid": "7f34e71d-f39d-43f6-ae93-a20ea51d626b",
    "_uuid": "f770fc43467b3a666981c72bceeccbaedcf65356"
   },
   "source": [
    "Finally, let's create a few helper functions that help with training and testing the models. The preprocess function is not used in this notebook but it might help improve the scores on the KMeans and One Class SVM models."
   ]
  },
  {
   "cell_type": "code",
   "execution_count": 6,
   "metadata": {
    "_cell_guid": "c9d25b03-9223-40cc-a101-5f55b977dbde",
    "_uuid": "9b9c37df64fc0cddbfb3feca93bcb142da57f270"
   },
   "outputs": [],
   "source": [
    "## Not required for Isolation Forest\n",
    "def preprocess(df_data):\n",
    "    for col in df_data:\n",
    "        df_data[col]=(df_data[col]-np.min(df_data[col]))/(np.max(df_data[col])-np.min(df_data[col]))\n",
    "    return"
   ]
  },
  {
   "cell_type": "markdown",
   "metadata": {
    "_cell_guid": "06776668-4513-4109-931c-160e4247c085",
    "_uuid": "5c9f1ce9f8809b7fa715468ef24d7e5753c5021b"
   },
   "source": [
    "<b>Note:</b> The below train and predict functions are designed to output ensemble models (bagged models), with the default size being 5 models. The Isolation Forest and One Class SVM use these functions."
   ]
  },
  {
   "cell_type": "code",
   "execution_count": 7,
   "metadata": {
    "_cell_guid": "c7b61f65-46ba-411a-942d-cfff8a1e290b",
    "_uuid": "4565902b66a86eba31a7b09bbd90db68e2923cca"
   },
   "outputs": [],
   "source": [
    "## Not valid for LOF\n",
    "def train(X,clf,ensembleSize=5,sampleSize=10000):\n",
    "    mdlLst=[]\n",
    "    for n in range(ensembleSize):\n",
    "        X=df_data.sample(sampleSize)\n",
    "        clf.fit(X)\n",
    "        mdlLst.append(clf)\n",
    "    return mdlLst"
   ]
  },
  {
   "cell_type": "code",
   "execution_count": 8,
   "metadata": {
    "_cell_guid": "abc7a7b9-f8d2-466e-9b3e-f9d0ef611200",
    "_uuid": "44981a687f2768724c9b7b29453371ffa2bab9b2"
   },
   "outputs": [],
   "source": [
    "## Not valif for LOF\n",
    "def predict(X,mdlLst):\n",
    "    y_pred=np.zeros(X.shape[0])\n",
    "    for clf in mdlLst:\n",
    "        y_pred=np.add(y_pred,clf.decision_function(X).reshape(X.shape[0],))\n",
    "    y_pred=(y_pred*1.0)/len(mdlLst)\n",
    "    return y_pred"
   ]
  },
  {
   "cell_type": "markdown",
   "metadata": {
    "_cell_guid": "787615be-6c75-4b33-bfe6-213bbc187d41",
    "_uuid": "33c0fde1de4e87e2a73013396a61fc3b2f388264"
   },
   "source": [
    "Finally, let's import some model scoring libraries. Since, we are dealing with a heavily imbalanced dataset, F1 Score is used as a proxy for model performance."
   ]
  },
  {
   "cell_type": "markdown",
   "metadata": {
    "_cell_guid": "82252a18-242d-4d19-b9d7-b9d768ebf9d2",
    "_uuid": "0736222c027239385a3a7f96d3aa4694427c5cc8"
   },
   "source": [
    "For more details, refer http://scikit-learn.org/stable/modules/generated/sklearn.metrics.f1_score.html"
   ]
  },
  {
   "cell_type": "code",
   "execution_count": 9,
   "metadata": {
    "_cell_guid": "201a5d09-d206-46a0-81f9-a44452ffda32",
    "_uuid": "40d4645e6706dc747d241f01c53a9eace10fe07b"
   },
   "outputs": [],
   "source": [
    "from sklearn.metrics import roc_auc_score\n",
    "from sklearn.metrics import confusion_matrix,f1_score"
   ]
  },
  {
   "cell_type": "markdown",
   "metadata": {
    "_cell_guid": "ea911ef4-f4cc-4388-bf8d-58f1fb075d38",
    "_uuid": "c92dbe4e580bd0526ed1d2d40dae699a389ebc55"
   },
   "source": [
    "#### Isolation Forest"
   ]
  },
  {
   "cell_type": "code",
   "execution_count": 10,
   "metadata": {
    "_cell_guid": "41633412-ca55-4daa-8087-059aac9e0d27",
    "_uuid": "d6edbea75777eea1556e652cb900ec8b081b217c"
   },
   "outputs": [],
   "source": [
    "alg=IsolationForest(n_estimators=100, \n",
    "                    max_samples='auto', \n",
    "                    contamination=0.01,\n",
    "                    max_features=1.0,\n",
    "                    bootstrap=False, \n",
    "                    n_jobs=-1, \n",
    "                    random_state=42,\n",
    "                    verbose=0)"
   ]
  },
  {
   "cell_type": "markdown",
   "metadata": {
    "_cell_guid": "e585ebd2-8b36-4bc4-88b4-d30194dd5c79",
    "_uuid": "df3a2bfff2f8299018330390616d5fd23551f6ce"
   },
   "source": [
    "<b>Note:</b> The magic function timeit does not let us use any variable that is created in the timeit cell. Hence, every cell with a timeit magic function will have a corresponding regular cell with the same code."
   ]
  },
  {
   "cell_type": "code",
   "execution_count": 11,
   "metadata": {
    "_cell_guid": "66961d5a-15f3-465a-a705-a442b438ce22",
    "_uuid": "7151d3fea22c71a8e68750338ec3956119a7f810"
   },
   "outputs": [
    {
     "name": "stdout",
     "output_type": "stream",
     "text": [
      "Time execution: 0:00:03.714569\n"
     ]
    }
   ],
   "source": [
    "start = datetime.now()\n",
    "\n",
    "if_mdlLst=train(X_train,alg)\n",
    "\n",
    "finish = datetime.now()\n",
    "\n",
    "time_exec_if = finish - start\n",
    "print(\"Time execution:\", time_exec_if)"
   ]
  },
  {
   "cell_type": "code",
   "execution_count": 13,
   "metadata": {
    "_cell_guid": "57b4d34d-2e2f-4fa6-8807-6ff326271e68",
    "_uuid": "b09730e14c6bad13cf6742f809a7b9570f72c26b"
   },
   "outputs": [
    {
     "name": "stdout",
     "output_type": "stream",
     "text": [
      "Time execution: 0:00:13.055696\n"
     ]
    }
   ],
   "source": [
    "start = datetime.now()\n",
    "\n",
    "if_y_pred=predict(X_test,if_mdlLst)\n",
    "if_y_pred=1-if_y_pred\n",
    "\n",
    "#Creating class labels based on decision function\n",
    "if_y_pred_class=if_y_pred.copy()\n",
    "if_y_pred_class[if_y_pred>=np.percentile(if_y_pred,95)]=1\n",
    "if_y_pred_class[if_y_pred<np.percentile(if_y_pred,95)]=0\n",
    "\n",
    "finish = datetime.now()\n",
    "\n",
    "time_exec_pred_if = finish - start\n",
    "print(\"Time execution:\", time_exec_pred_if)"
   ]
  },
  {
   "cell_type": "code",
   "execution_count": 14,
   "metadata": {
    "_cell_guid": "66ee10bf-ecf8-4230-9465-54269a6e276a",
    "_uuid": "6baa55e5fa91614b6d6b6888c632389dda1b6f33"
   },
   "outputs": [
    {
     "data": {
      "text/plain": [
       "0.9057879792638215"
      ]
     },
     "execution_count": 14,
     "metadata": {},
     "output_type": "execute_result"
    }
   ],
   "source": [
    "roc_auc_score(y_test, if_y_pred_class)"
   ]
  },
  {
   "cell_type": "code",
   "execution_count": 15,
   "metadata": {
    "_cell_guid": "9c226f2f-b03d-4efd-a7d1-9ae2aaca260b",
    "_uuid": "45edb5aef17a1dcc0817805fc25bd4c08b8391f6"
   },
   "outputs": [
    {
     "data": {
      "text/plain": [
       "0.05307325924245861"
      ]
     },
     "execution_count": 15,
     "metadata": {},
     "output_type": "execute_result"
    }
   ],
   "source": [
    "f1_score(y_test, if_y_pred_class)"
   ]
  },
  {
   "cell_type": "code",
   "execution_count": 16,
   "metadata": {
    "_cell_guid": "dabdd17a-9362-4688-9d8d-8a15e3583d9c",
    "_uuid": "04080b075bb4389f84aaa0ad84099c91229520f0"
   },
   "outputs": [],
   "source": [
    "if_cm=confusion_matrix(y_test, if_y_pred_class)"
   ]
  },
  {
   "cell_type": "code",
   "execution_count": 17,
   "metadata": {
    "_cell_guid": "96d74ca8-7381-4c8e-be7a-91b33168ad98",
    "_uuid": "39f2dde5fdc84a84f0d62d551015cb6afd200e4a"
   },
   "outputs": [
    {
     "data": {
      "text/plain": [
       "<AxesSubplot:>"
      ]
     },
     "execution_count": 17,
     "metadata": {},
     "output_type": "execute_result"
    },
    {
     "data": {
      "image/png": "[encoded data removed]",
      "text/plain": [
       "<Figure size 576x288 with 2 Axes>"
      ]
     },
     "metadata": {
      "needs_background": "light"
     },
     "output_type": "display_data"
    }
   ],
   "source": [
    "import seaborn as sn\n",
    "     \n",
    "df_cm = pd.DataFrame(if_cm,\n",
    "                  ['True Normal','True Fraud'],['Pred Normal','Pred Fraud'])\n",
    "pyplot.figure(figsize = (8,4))\n",
    "sn.set(font_scale=1.4)#for label size\n",
    "sn.heatmap(df_cm, annot=True,annot_kws={\"size\": 16},fmt='g')# font size"
   ]
  },
  {
   "cell_type": "markdown",
   "metadata": {
    "_cell_guid": "b20124a9-964a-40f9-8fc2-ab48810817fc",
    "_uuid": "bab606524762a2c45a58e8a8f8fbae7f116894a4"
   },
   "source": [
    "#### KMeans"
   ]
  },
  {
   "cell_type": "markdown",
   "metadata": {
    "_cell_guid": "e536b129-d19b-49d2-8107-1026c50d6784",
    "_uuid": "93169598c9b25e0e041f9a750eb0519f2fcaf335"
   },
   "source": [
    "The top 5% of the farthest point from cluster centers are itentified as fraud (outliers)"
   ]
  },
  {
   "cell_type": "code",
   "execution_count": 18,
   "metadata": {
    "_cell_guid": "256a02ae-f67e-42a2-984f-c3582c7427ab",
    "_uuid": "7cc3539b7a247a5104017b36e363b131330ea374"
   },
   "outputs": [
    {
     "name": "stdout",
     "output_type": "stream",
     "text": [
      "Time execution: 0:00:06.283201\n"
     ]
    }
   ],
   "source": [
    "start = datetime.now()\n",
    "\n",
    "kmeans = KMeans(n_clusters=8, random_state=42,n_jobs=-1).fit(X_train)\n",
    "\n",
    "finish = datetime.now()\n",
    "\n",
    "time_exec_km = finish - start\n",
    "print(\"Time execution:\", time_exec_km)"
   ]
  },
  {
   "cell_type": "code",
   "execution_count": 19,
   "metadata": {
    "_cell_guid": "b94b451c-76ee-4f5f-bf93-04ca8ddc237c",
    "_uuid": "13c93518fe879a38cf6b9e0c36f77e54bcc14ea8"
   },
   "outputs": [
    {
     "name": "stdout",
     "output_type": "stream",
     "text": [
      "Time execution: 0:00:00.794345\n"
     ]
    }
   ],
   "source": [
    "start = datetime.now()\n",
    "\n",
    "X_test_clusters=kmeans.predict(X_test)\n",
    "X_test_clusters_centers=kmeans.cluster_centers_\n",
    "dist = [np.linalg.norm(x-y) for x,y in zip(X_test.values,X_test_clusters_centers[X_test_clusters])]\n",
    "\n",
    "km_y_pred=np.array(dist)\n",
    "km_y_pred[dist>=np.percentile(dist,95)]=1\n",
    "km_y_pred[dist<np.percentile(dist,95)]=0\n",
    "\n",
    "finish = datetime.now()\n",
    "\n",
    "time_exec_pred_km = finish - start\n",
    "print(\"Time execution:\", time_exec_pred_km)"
   ]
  },
  {
   "cell_type": "code",
   "execution_count": 20,
   "metadata": {
    "_cell_guid": "ba0237c8-c415-4ab2-8ca8-1c0d9a73ce81",
    "_uuid": "8ec5a7a5c8082e76901ae41f02771587c0d53331"
   },
   "outputs": [
    {
     "data": {
      "text/plain": [
       "0.5265078067519458"
      ]
     },
     "execution_count": 20,
     "metadata": {},
     "output_type": "execute_result"
    }
   ],
   "source": [
    "roc_auc_score(y_test, km_y_pred)"
   ]
  },
  {
   "cell_type": "code",
   "execution_count": 21,
   "metadata": {
    "_uuid": "58827917c59212f454d77b051afc55cd08dc7cb5"
   },
   "outputs": [
    {
     "data": {
      "text/plain": [
       "0.0063506464050805175"
      ]
     },
     "execution_count": 21,
     "metadata": {},
     "output_type": "execute_result"
    }
   ],
   "source": [
    "f1_score(y_test, km_y_pred)"
   ]
  },
  {
   "cell_type": "code",
   "execution_count": 22,
   "metadata": {
    "_cell_guid": "0acb5a4e-04b7-405e-93ab-a5dcfef9aeb4",
    "_uuid": "1a619b0eab644a5194b9e0ace40315d110811b7f"
   },
   "outputs": [],
   "source": [
    "km_cm=confusion_matrix(y_test, km_y_pred)"
   ]
  },
  {
   "cell_type": "code",
   "execution_count": 23,
   "metadata": {
    "_cell_guid": "b4f14479-a663-4477-9bca-96defa946f62",
    "_uuid": "0395710c992c731a7e2cdbf32c4c96e5350d2da4"
   },
   "outputs": [
    {
     "data": {
      "text/plain": [
       "<AxesSubplot:>"
      ]
     },
     "execution_count": 23,
     "metadata": {},
     "output_type": "execute_result"
    },
    {
     "data": {
      "image/png": "[encoded data removed]",
      "text/plain": [
       "<Figure size 576x288 with 2 Axes>"
      ]
     },
     "metadata": {},
     "output_type": "display_data"
    }
   ],
   "source": [
    "df_cm = pd.DataFrame(km_cm,\n",
    "                  ['True Normal','True Fraud'],['Pred Normal','Pred Fraud'])\n",
    "pyplot.figure(figsize = (8,4))\n",
    "sn.set(font_scale=1.4)#for label size\n",
    "sn.heatmap(df_cm, annot=True,annot_kws={\"size\": 16},fmt='g')# font size"
   ]
  },
  {
   "cell_type": "markdown",
   "metadata": {
    "_cell_guid": "d440bf60-90c9-453f-811d-08886a7ba655",
    "_uuid": "32972fdea5821d630e57eedcbe8966a99c906f6e"
   },
   "source": [
    "#### LOF"
   ]
  },
  {
   "cell_type": "markdown",
   "metadata": {
    "_cell_guid": "2d370adb-29fa-49af-8d1b-d603b6b5ae22",
    "_uuid": "d57fd4fde5dc04e7969faab0fd286d3e9d481ebe"
   },
   "source": [
    "Local Outlier Factor only looks at the local neighbourhood of a data point and hence cannot make predictions on out of sample data points. Hence we work directly with X_test here."
   ]
  },
  {
   "cell_type": "code",
   "execution_count": 24,
   "metadata": {
    "_cell_guid": "544ffd25-cda4-404c-a14d-802edaa86aba",
    "_uuid": "af7efe1d42c4f9964a18c0549a16b150b368f530"
   },
   "outputs": [],
   "source": [
    "clf=LocalOutlierFactor(n_neighbors=20, \n",
    "                       algorithm='auto',\n",
    "                       leaf_size=30, \\\n",
    "                       metric='minkowski',\n",
    "                       p=2,\n",
    "                       metric_params=None,\n",
    "                       contamination=0.1,\n",
    "                       n_jobs=-1)"
   ]
  },
  {
   "cell_type": "code",
   "execution_count": 25,
   "metadata": {
    "_cell_guid": "95af508c-cfc7-440a-8b5b-8db316178828",
    "_uuid": "d1630e479ebb4a19cf1fd06446933c72dd927a1b"
   },
   "outputs": [
    {
     "name": "stdout",
     "output_type": "stream",
     "text": [
      "Time execution: 0:04:29.055726\n"
     ]
    }
   ],
   "source": [
    "start = datetime.now()\n",
    "\n",
    "clf.fit(X_test)\n",
    "\n",
    "finish = datetime.now()\n",
    "\n",
    "time_exec_lof = finish - start\n",
    "print(\"Time execution:\", time_exec_lof)"
   ]
  },
  {
   "cell_type": "code",
   "execution_count": 26,
   "metadata": {
    "_cell_guid": "ee6179fd-29cc-4110-98cf-5273daf7eaba",
    "_uuid": "4cf611375cb843ad9d086e1b0de2716dc6ffdc39"
   },
   "outputs": [
    {
     "name": "stdout",
     "output_type": "stream",
     "text": [
      "Time execution: 0:00:00.003890\n"
     ]
    }
   ],
   "source": [
    "start = datetime.now()\n",
    "\n",
    "lof_y_pred=clf.negative_outlier_factor_\n",
    "\n",
    "#Creating class labels based on decision function\n",
    "lof_y_pred_class=lof_y_pred.copy()\n",
    "lof_y_pred_class[lof_y_pred>=np.percentile(lof_y_pred,95)]=1\n",
    "lof_y_pred_class[lof_y_pred<np.percentile(lof_y_pred,95)]=0\n",
    "\n",
    "finish = datetime.now()\n",
    "\n",
    "time_exec_pred_lof = finish - start\n",
    "print(\"Time execution:\", time_exec_pred_lof)"
   ]
  },
  {
   "cell_type": "code",
   "execution_count": 27,
   "metadata": {
    "_cell_guid": "d5881d03-14e1-43bb-8d35-4a844d5ff1b6",
    "_uuid": "44f197c9a206b612cb83fd9e49df5a0611839c55"
   },
   "outputs": [
    {
     "data": {
      "text/plain": [
       "0.4970491525762661"
      ]
     },
     "execution_count": 27,
     "metadata": {},
     "output_type": "execute_result"
    }
   ],
   "source": [
    "roc_auc_score(y_test, lof_y_pred_class)"
   ]
  },
  {
   "cell_type": "code",
   "execution_count": 28,
   "metadata": {
    "_uuid": "52b331d5658eb668914b17817f3cd62010cd7bc0"
   },
   "outputs": [
    {
     "data": {
      "text/plain": [
       "0.0027217056021773644"
      ]
     },
     "execution_count": 28,
     "metadata": {},
     "output_type": "execute_result"
    }
   ],
   "source": [
    "f1_score(y_test, lof_y_pred_class)"
   ]
  },
  {
   "cell_type": "code",
   "execution_count": 29,
   "metadata": {
    "_cell_guid": "080c3956-360a-4d39-92e7-8e6d6a2ecc88",
    "_uuid": "c1316b5e14d9c58ee8679cae32b3dec9cb917e64"
   },
   "outputs": [],
   "source": [
    "lof_cm=confusion_matrix(y_test, lof_y_pred_class)"
   ]
  },
  {
   "cell_type": "code",
   "execution_count": 30,
   "metadata": {
    "_cell_guid": "bdd32418-48bf-4739-ade3-64f65b739012",
    "_uuid": "3b6c38211fe62992d44b4e6eafaa37f903113a23"
   },
   "outputs": [
    {
     "data": {
      "text/plain": [
       "<AxesSubplot:>"
      ]
     },
     "execution_count": 30,
     "metadata": {},
     "output_type": "execute_result"
    },
    {
     "data": {
      "image/png": "[encoded data removed]",
      "text/plain": [
       "<Figure size 576x288 with 2 Axes>"
      ]
     },
     "metadata": {},
     "output_type": "display_data"
    }
   ],
   "source": [
    "df_cm = pd.DataFrame(lof_cm,\n",
    "                  ['True Normal','True Fraud'],['Pred Normal','Pred Fraud'])\n",
    "pyplot.figure(figsize = (8,4))\n",
    "sn.set(font_scale=1.4)#for label size\n",
    "sn.heatmap(df_cm, annot=True,annot_kws={\"size\": 16},fmt='g')# font size"
   ]
  },
  {
   "cell_type": "markdown",
   "metadata": {
    "_cell_guid": "57b5bcfd-9141-425f-a591-ca5c2115806e",
    "_uuid": "1e9e944deeaffa41e7a5ac578fd0a706b8afc9d3"
   },
   "source": [
    "#### One-Class SVM*"
   ]
  },
  {
   "cell_type": "markdown",
   "metadata": {
    "_cell_guid": "35aac6f7-e4d3-4de7-9805-cd3b9540d30f",
    "_uuid": "51b4ff70e850624b3fe27983d4bb66f6df31fc1c"
   },
   "source": [
    "##### *Any kernel except linear will take a while. Feel free to grab a coffee, if you decide to change the kernel type"
   ]
  },
  {
   "cell_type": "code",
   "execution_count": 31,
   "metadata": {
    "_cell_guid": "3058fa30-566e-48fc-804e-777f586150b1",
    "_uuid": "3bf368b3f9b0239dc4ea2f64eead81e9a16a8efc"
   },
   "outputs": [],
   "source": [
    "alg=OneClassSVM(kernel='linear',\n",
    "                gamma='auto', \n",
    "                coef0=0.0,\n",
    "                tol=0.001,\n",
    "                nu=0.5, \\\n",
    "                shrinking=True,\n",
    "                cache_size=500,\n",
    "                verbose=False,\n",
    "                max_iter=-1)"
   ]
  },
  {
   "cell_type": "code",
   "execution_count": 32,
   "metadata": {
    "_cell_guid": "542c3efc-a8d8-452d-839d-03b7ec6f6cbe",
    "_uuid": "dacd2c39d995b46717982256110aaa94590bd319"
   },
   "outputs": [
    {
     "name": "stdout",
     "output_type": "stream",
     "text": [
      "Time execution: 0:00:15.253225\n"
     ]
    }
   ],
   "source": [
    "start = datetime.now()\n",
    "\n",
    "osvm_mdlLst=train(X_train,alg)\n",
    "\n",
    "finish = datetime.now()\n",
    "\n",
    "time_exec_svm = finish - start\n",
    "print(\"Time execution:\", time_exec_svm)"
   ]
  },
  {
   "cell_type": "code",
   "execution_count": 33,
   "metadata": {
    "_cell_guid": "a04a8ef3-9011-45ce-a813-2d9ba9793d56",
    "_uuid": "e5eaacb22adc30f9fbdbbc8605f5b2c46a7f0904"
   },
   "outputs": [
    {
     "name": "stdout",
     "output_type": "stream",
     "text": [
      "Time execution: 0:01:09.279774\n"
     ]
    }
   ],
   "source": [
    "start = datetime.now()\n",
    "\n",
    "osvm_y_pred=predict(X_test,osvm_mdlLst)\n",
    "\n",
    "#Creating class labels based on decision function\n",
    "osvm_y_pred_class=osvm_y_pred.copy()\n",
    "osvm_y_pred_class[osvm_y_pred<0]=1\n",
    "osvm_y_pred_class[osvm_y_pred>=0]=0\n",
    "\n",
    "finish = datetime.now()\n",
    "\n",
    "time_exec_pred_svm = finish - start\n",
    "print(\"Time execution:\", time_exec_pred_svm)"
   ]
  },
  {
   "cell_type": "code",
   "execution_count": 34,
   "metadata": {
    "_cell_guid": "3f73d28e-ac54-49b1-b407-a09b554bd87b",
    "_uuid": "a0380683ebc42ea3291480794a52d188f3753e8b"
   },
   "outputs": [
    {
     "data": {
      "text/plain": [
       "0.5172657974416277"
      ]
     },
     "execution_count": 34,
     "metadata": {},
     "output_type": "execute_result"
    }
   ],
   "source": [
    "roc_auc_score(y_test, osvm_y_pred_class)"
   ]
  },
  {
   "cell_type": "code",
   "execution_count": 35,
   "metadata": {
    "_cell_guid": "e7817298-64df-436a-8256-fdc363849afe",
    "_uuid": "8dd3305b86acae073f3abc94a400d7684c680bc5"
   },
   "outputs": [
    {
     "data": {
      "text/plain": [
       "0.003391169024225954"
      ]
     },
     "execution_count": 35,
     "metadata": {},
     "output_type": "execute_result"
    }
   ],
   "source": [
    "f1_score(y_test, osvm_y_pred_class)"
   ]
  },
  {
   "cell_type": "code",
   "execution_count": 36,
   "metadata": {
    "_cell_guid": "933e4bb5-0687-45b5-90c8-4bc181bf797f",
    "_uuid": "3ba3a2eb25176763b0914550023aee6a6c6a2fd8"
   },
   "outputs": [],
   "source": [
    "osvm_cm=confusion_matrix(y_test, osvm_y_pred_class)"
   ]
  },
  {
   "cell_type": "code",
   "execution_count": 37,
   "metadata": {
    "_cell_guid": "6ab75281-60a9-4c70-9776-6ed149103fdc",
    "_uuid": "f3bac0d7835bdeaeade371ceca092e0fb336ba8b"
   },
   "outputs": [
    {
     "data": {
      "text/plain": [
       "<AxesSubplot:>"
      ]
     },
     "execution_count": 37,
     "metadata": {},
     "output_type": "execute_result"
    },
    {
     "data": {
      "image/png": "[encoded data removed]",
      "text/plain": [
       "<Figure size 576x288 with 2 Axes>"
      ]
     },
     "metadata": {},
     "output_type": "display_data"
    }
   ],
   "source": [
    "df_cm = pd.DataFrame(osvm_cm,\n",
    "                  ['True Normal','True Fraud'],['Pred Normal','Pred Fraud'])\n",
    "pyplot.figure(figsize = (8,4))\n",
    "sn.set(font_scale=1.4)#for label size\n",
    "sn.heatmap(df_cm, annot=True,annot_kws={\"size\": 16},fmt='g')# font size"
   ]
  },
  {
   "cell_type": "markdown",
   "metadata": {
    "_cell_guid": "8592907e-159c-40f6-ae3a-5fab20197f1e",
    "_uuid": "92f451da96f40d2cdefa2dced4180a2b943419f3"
   },
   "source": [
    "## Conclusion"
   ]
  },
  {
   "cell_type": "code",
   "execution_count": 47,
   "metadata": {
    "_cell_guid": "ee586a57-c98c-4e0c-8df8-85f26b79907a",
    "_uuid": "2b5994f5fa3cdc998bd19542d732b18a5c4e828d"
   },
   "outputs": [],
   "source": [
    "## Performance Plot\n",
    "train_times={\n",
    "    'Isolation Forest': time_exec_if.total_seconds(),\n",
    "    'KMeans': time_exec_km.total_seconds(),\n",
    "    'LOF': time_exec_lof.total_seconds(),\n",
    "    'OneClass SVM': time_exec_svm.total_seconds()\n",
    "}\n",
    "\n",
    "prediction_times={\n",
    "    'Isolation Forest': time_exec_pred_if.total_seconds(),\n",
    "    'KMeans': time_exec_pred_km.total_seconds(),\n",
    "    'LOF': time_exec_pred_lof.total_seconds(),\n",
    "    'OneClass SVM': time_exec_pred_svm.total_seconds()\n",
    "}"
   ]
  },
  {
   "cell_type": "code",
   "execution_count": 48,
   "metadata": {
    "_cell_guid": "65158c38-6342-4828-a05e-29fdb378fb68",
    "_uuid": "2ea87a8da5045bc2265211927c128cc764a69095"
   },
   "outputs": [
    {
     "data": {
      "text/plain": [
       "Text(0.5, 0, 'Time in seconds')"
      ]
     },
     "execution_count": 48,
     "metadata": {},
     "output_type": "execute_result"
    },
    {
     "data": {
      "image/png": "[encoded data removed]",
      "text/plain": [
       "<Figure size 432x288 with 1 Axes>"
      ]
     },
     "metadata": {},
     "output_type": "display_data"
    }
   ],
   "source": [
    "pyplot.title('Training Time')\n",
    "pyplot.barh(range(len(train_times)), list(train_times.values()), align='center')\n",
    "pyplot.yticks(range(len(train_times)), list(train_times.keys()))\n",
    "pyplot.xlabel('Time in seconds')"
   ]
  },
  {
   "cell_type": "code",
   "execution_count": 49,
   "metadata": {
    "_cell_guid": "a9fc853c-d56d-4746-8d71-ecfca65880eb",
    "_uuid": "370da815b6ed9cba2c527d4c1a0ef124025b9426"
   },
   "outputs": [
    {
     "data": {
      "text/plain": [
       "Text(0.5, 0, 'Time in seconds')"
      ]
     },
     "execution_count": 49,
     "metadata": {},
     "output_type": "execute_result"
    },
    {
     "data": {
      "image/png": "[encoded data removed]",
      "text/plain": [
       "<Figure size 432x288 with 1 Axes>"
      ]
     },
     "metadata": {},
     "output_type": "display_data"
    }
   ],
   "source": [
    "pyplot.title('Prediction Time')\n",
    "pyplot.barh(range(len(prediction_times)), list(prediction_times.values()), align='center')\n",
    "pyplot.yticks(range(len(prediction_times)), list(prediction_times.keys()))\n",
    "pyplot.xlabel('Time in seconds')"
   ]
  },
  {
   "cell_type": "markdown",
   "metadata": {
    "_cell_guid": "0594b209-5341-4ead-be61-9ba014aa84ce",
    "_uuid": "327641d627f10bb4ab6d240b0178746cf0f5ed9b"
   },
   "source": [
    "The algorithm doesn't fare so well but this might be due to the over head of the ensemble structure."
   ]
  },
  {
   "cell_type": "code",
   "execution_count": 50,
   "metadata": {
    "_cell_guid": "58090efc-4b63-4df2-836d-cf59ca475375",
    "_uuid": "46b103dc23e928f9532bb26acda81c7c16b2e324"
   },
   "outputs": [],
   "source": [
    "## Performance Plot\n",
    "auc_scores={\n",
    "    'Isolation Forest': roc_auc_score(y_test, if_y_pred_class),\n",
    "    'KMeans':roc_auc_score(y_test, km_y_pred),\n",
    "    'LOF':roc_auc_score(y_test, lof_y_pred_class),\n",
    "    'OneClass SVM': roc_auc_score(y_test, osvm_y_pred_class)\n",
    "}\n",
    "\n",
    "f1_scores={\n",
    "    'Isolation Forest':f1_score(y_test, if_y_pred_class),\n",
    "    'KMeans':f1_score(y_test, km_y_pred),\n",
    "    'LOF':f1_score(y_test, lof_y_pred_class),\n",
    "    'OneClass SVM': f1_score(y_test, osvm_y_pred_class)\n",
    "}"
   ]
  },
  {
   "cell_type": "code",
   "execution_count": 51,
   "metadata": {
    "_cell_guid": "23a9f9e1-368a-47ec-a42e-83483696232a",
    "_uuid": "9f426ca6b64a2e8f116dfed1f9585a10317b8abe"
   },
   "outputs": [
    {
     "data": {
      "text/plain": [
       "Text(0.5, 0, 'AUC Score')"
      ]
     },
     "execution_count": 51,
     "metadata": {},
     "output_type": "execute_result"
    },
    {
     "data": {
      "image/png": "[encoded data removed]",
      "text/plain": [
       "<Figure size 432x288 with 1 Axes>"
      ]
     },
     "metadata": {},
     "output_type": "display_data"
    }
   ],
   "source": [
    "pyplot.title('AUC Scores')\n",
    "pyplot.barh(range(len(auc_scores)), list(auc_scores.values()), align='center')\n",
    "pyplot.yticks(range(len(auc_scores)), list(auc_scores.keys()))\n",
    "pyplot.xlabel('AUC Score')"
   ]
  },
  {
   "cell_type": "code",
   "execution_count": 52,
   "metadata": {
    "_cell_guid": "4911c797-730c-4379-800e-2766d054b9fc",
    "_uuid": "63156179c7b9e5a692d86d47b3894a6ad68166f4"
   },
   "outputs": [
    {
     "data": {
      "text/plain": [
       "Text(0.5, 0, 'F1 Score')"
      ]
     },
     "execution_count": 52,
     "metadata": {},
     "output_type": "execute_result"
    },
    {
     "data": {
      "image/png": "[encoded data removed]",
      "text/plain": [
       "<Figure size 432x288 with 1 Axes>"
      ]
     },
     "metadata": {},
     "output_type": "display_data"
    }
   ],
   "source": [
    "pyplot.title('F1 Scores')\n",
    "pyplot.barh(range(len(f1_scores)), list(f1_scores.values()), align='center')\n",
    "pyplot.yticks(range(len(f1_scores)), list(f1_scores.keys()))\n",
    "pyplot.xlabel('F1 Score')"
   ]
  },
  {
   "cell_type": "markdown",
   "metadata": {
    "_cell_guid": "0bd16ffd-6ef4-49c0-bc02-70e21f8828f3",
    "_uuid": "5a5c3cf6caf8dbc7dc0ce2e2942908123edb5de6"
   },
   "source": [
    "Coming to model performance, our isolation forest ensemble model is a clear winner!"
   ]
  }
 ],
 "metadata": {
  "kernelspec": {
   "display_name": "Python 3",
   "language": "python",
   "name": "python3"
  },
  "language_info": {
   "codemirror_mode": {
    "name": "ipython",
    "version": 3
   },
   "file_extension": ".py",
   "mimetype": "text/x-python",
   "name": "python",
   "nbconvert_exporter": "python",
   "pygments_lexer": "ipython3",
   "version": "3.8.5"
  }
 },
 "nbformat": 4,
 "nbformat_minor": 1
}
