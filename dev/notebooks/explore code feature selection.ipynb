{
 "cells": [
  {
   "cell_type": "markdown",
   "metadata": {},
   "source": [
    "https://datascience.stackexchange.com/questions/67040/how-to-do-feature-selection-for-clustering-and-implement-it-in-python"
   ]
  },
  {
   "cell_type": "code",
   "execution_count": 3,
   "metadata": {},
   "outputs": [
    {
     "name": "stdout",
     "output_type": "stream",
     "text": [
      "        num_legs  num_wings  num_specimen_seen\n",
      "falcon         2          2                 10\n",
      "dog            4          0                  2\n",
      "spider         8          0                  1\n",
      "fish           0          0                  8\n"
     ]
    }
   ],
   "source": [
    "from sklearn.decomposition import PCA\n",
    "from sklearn.cluster import KMeans\n",
    "from collections import defaultdict\n",
    "from sklearn.metrics.pairwise import euclidean_distances\n",
    "from sklearn.preprocessing import StandardScaler\n",
    "import pandas as pd\n",
    "# create some dummy data\n",
    "df = pd.DataFrame({'num_legs': [2, 4, 8, 0],\n",
    "                   'num_wings': [2, 0, 0, 0],\n",
    "                   'num_specimen_seen': [10, 2, 1, 8]},\n",
    "                  index=['falcon', 'dog', 'spider', 'fish'])\n",
    "print(df)\n",
    "class PFA(object):\n",
    "    def __init__(self, n_features, q=None):\n",
    "        self.q = q\n",
    "        self.n_features = n_features\n",
    "    \n",
    "    def fit(self, X):\n",
    "        if not self.q:\n",
    "            self.q = X.shape[1]\n",
    "    \n",
    "        sc = StandardScaler()\n",
    "        X = sc.fit_transform(X)\n",
    "    \n",
    "        pca = PCA(n_components=self.q).fit(X) # calculation Covmatrix is embeded in PCA\n",
    "        A_q = pca.components_.T\n",
    "    \n",
    "        kmeans = KMeans(n_clusters=self.n_features).fit(A_q)\n",
    "        clusters = kmeans.predict(A_q)\n",
    "        cluster_centers = kmeans.cluster_centers_\n",
    "    \n",
    "        dists = defaultdict(list)\n",
    "        for i, c in enumerate(clusters):\n",
    "            dist = euclidean_distances([A_q[i, :]], [cluster_centers[c, :]])[0][0]\n",
    "            dists[c].append((i, dist))\n",
    "    \n",
    "        self.indices_ = [sorted(f, key=lambda x: x[1])[0][0] for f in dists.values()]\n",
    "        self.features_ = X[:, self.indices_]"
   ]
  },
  {
   "cell_type": "code",
   "execution_count": 7,
   "metadata": {},
   "outputs": [
    {
     "name": "stdout",
     "output_type": "stream",
     "text": [
      "[[-0.50709255  1.73205081]\n",
      " [ 0.16903085 -0.57735027]\n",
      " [ 1.52127766 -0.57735027]\n",
      " [-1.18321596 -0.57735027]]\n"
     ]
    }
   ],
   "source": [
    "# Usage\n",
    "pfa = PFA(n_features=2)\n",
    "pfa.fit(df)\n",
    "# To get the transformed matrix\n",
    "x = pfa.features_\n",
    "print(x)\n",
    "# To get the column indices of the kept features\n",
    "column_indices = pfa.indices_"
   ]
  },
  {
   "cell_type": "code",
   "execution_count": 8,
   "metadata": {},
   "outputs": [
    {
     "data": {
      "text/plain": [
       "[0, 1]"
      ]
     },
     "execution_count": 8,
     "metadata": {},
     "output_type": "execute_result"
    }
   ],
   "source": [
    "column_indices"
   ]
  },
  {
   "cell_type": "markdown",
   "metadata": {},
   "source": [
    "---"
   ]
  },
  {
   "cell_type": "markdown",
   "metadata": {},
   "source": [
    "---"
   ]
  },
  {
   "cell_type": "code",
   "execution_count": 91,
   "metadata": {},
   "outputs": [],
   "source": [
    "X=df.copy()\n",
    "q = X.shape[1]\n",
    "n_features=2"
   ]
  },
  {
   "cell_type": "code",
   "execution_count": 92,
   "metadata": {},
   "outputs": [
    {
     "data": {
      "text/plain": [
       "(4, 3)"
      ]
     },
     "execution_count": 92,
     "metadata": {},
     "output_type": "execute_result"
    }
   ],
   "source": [
    "X.shape"
   ]
  },
  {
   "cell_type": "code",
   "execution_count": 93,
   "metadata": {},
   "outputs": [],
   "source": [
    "sc = StandardScaler()\n",
    "X = sc.fit_transform(X)\n",
    "pca = PCA(n_components=q).fit(X) # calculation Covmatrix is embeded in PCA\n",
    "A_q = pca.components_.T # coordenadas en el espacio de las variables"
   ]
  },
  {
   "cell_type": "code",
   "execution_count": 94,
   "metadata": {},
   "outputs": [
    {
     "data": {
      "text/plain": [
       "array([[-0.55529346, -0.64470406, -0.5253626 ],\n",
       "       [ 0.50769017, -0.76312539,  0.39986289],\n",
       "       [ 0.65871076,  0.04468018, -0.75106845]])"
      ]
     },
     "execution_count": 94,
     "metadata": {},
     "output_type": "execute_result"
    }
   ],
   "source": [
    "A_q"
   ]
  },
  {
   "cell_type": "code",
   "execution_count": 95,
   "metadata": {},
   "outputs": [],
   "source": [
    "kmeans = KMeans(n_clusters=n_features).fit(A_q) # agrupacion de variables\n",
    "clusters = kmeans.predict(A_q)\n",
    "cluster_centers = kmeans.cluster_centers_"
   ]
  },
  {
   "cell_type": "code",
   "execution_count": 96,
   "metadata": {},
   "outputs": [
    {
     "data": {
      "text/plain": [
       "array([0, 1, 0], dtype=int32)"
      ]
     },
     "execution_count": 96,
     "metadata": {},
     "output_type": "execute_result"
    }
   ],
   "source": [
    "clusters"
   ]
  },
  {
   "cell_type": "code",
   "execution_count": 97,
   "metadata": {},
   "outputs": [
    {
     "name": "stdout",
     "output_type": "stream",
     "text": [
      "0 0.7071067811865475\n",
      "1 0.0\n",
      "2 0.7071067811865475\n"
     ]
    }
   ],
   "source": [
    "# distancia entre cada variable y el centroide. \n",
    "dists = defaultdict(list)\n",
    "for i, c in enumerate(clusters):\n",
    "    dist = euclidean_distances([A_q[i, :]], [cluster_centers[c, :]])[0][0]\n",
    "    print(i, dist)\n",
    "    dists[c].append((i, dist))"
   ]
  },
  {
   "cell_type": "code",
   "execution_count": 98,
   "metadata": {},
   "outputs": [
    {
     "data": {
      "text/plain": [
       "dict_values([[(0, 0.7071067811865475), (2, 0.7071067811865475)], [(1, 0.0)]])"
      ]
     },
     "execution_count": 98,
     "metadata": {},
     "output_type": "execute_result"
    }
   ],
   "source": [
    "dists.values()"
   ]
  },
  {
   "cell_type": "code",
   "execution_count": 99,
   "metadata": {},
   "outputs": [],
   "source": [
    "# asi selecciona la variable mas cercana al cluster\n",
    "indices_ = [sorted(f, key=lambda x: x[1])[0][0] for f in dists.values()]\n",
    "features_ = X[:, indices_]"
   ]
  },
  {
   "cell_type": "code",
   "execution_count": 100,
   "metadata": {},
   "outputs": [
    {
     "name": "stdout",
     "output_type": "stream",
     "text": [
      "0\n",
      "--\n",
      "1\n",
      "--\n"
     ]
    }
   ],
   "source": [
    "for f in dists.values():\n",
    "    #print(f)\n",
    "    print(sorted(f,  key=lambda x: x[1])[0][0])\n",
    "    print(\"--\")"
   ]
  },
  {
   "cell_type": "code",
   "execution_count": 90,
   "metadata": {},
   "outputs": [
    {
     "data": {
      "text/plain": [
       "[0, 1, 2]"
      ]
     },
     "execution_count": 90,
     "metadata": {},
     "output_type": "execute_result"
    }
   ],
   "source": [
    "indices_"
   ]
  },
  {
   "cell_type": "code",
   "execution_count": null,
   "metadata": {},
   "outputs": [],
   "source": []
  }
 ],
 "metadata": {
  "kernelspec": {
   "display_name": "cervical-clustering-app",
   "language": "python",
   "name": "cervical-clustering-app"
  },
  "language_info": {
   "codemirror_mode": {
    "name": "ipython",
    "version": 3
   },
   "file_extension": ".py",
   "mimetype": "text/x-python",
   "name": "python",
   "nbconvert_exporter": "python",
   "pygments_lexer": "ipython3",
   "version": "3.10.5"
  }
 },
 "nbformat": 4,
 "nbformat_minor": 4
}
